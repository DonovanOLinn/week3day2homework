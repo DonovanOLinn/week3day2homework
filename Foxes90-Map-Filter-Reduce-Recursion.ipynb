{
 "cells": [
  {
   "cell_type": "markdown",
   "metadata": {},
   "source": [
    "# Map, Filter, Reduce, Lambda & Recursion"
   ]
  },
  {
   "cell_type": "markdown",
   "metadata": {},
   "source": [
    "## Tasks Today:\n",
    "\n",
    "1) <b>Lambda Functions</b> <br>\n",
    " &nbsp;&nbsp;&nbsp;&nbsp; a) Syntax <br>\n",
    " &nbsp;&nbsp;&nbsp;&nbsp; b) Saving to a Variable <br>\n",
    " &nbsp;&nbsp;&nbsp;&nbsp; c) Multiple Inputs <br>\n",
    " &nbsp;&nbsp;&nbsp;&nbsp; d) Passing a Lambda into a Function <br>\n",
    " &nbsp;&nbsp;&nbsp;&nbsp; e) Returning a Lambda from a Function <br>\n",
    " &nbsp;&nbsp;&nbsp;&nbsp; f) In-Class Exercise #1 <br>\n",
    "2) <b>Map</b> <br>\n",
    " &nbsp;&nbsp;&nbsp;&nbsp; a) Syntax <br>\n",
    " &nbsp;&nbsp;&nbsp;&nbsp; b) Using Lambda's with Map <br>\n",
    " &nbsp;&nbsp;&nbsp;&nbsp; c) In-Class Exercise #2 <br>\n",
    "3) <b>Filter</b> <br>\n",
    " &nbsp;&nbsp;&nbsp;&nbsp; a) Syntax <br>\n",
    " &nbsp;&nbsp;&nbsp;&nbsp; b) Using Lambda's with Filter <br>\n",
    " &nbsp;&nbsp;&nbsp;&nbsp; c) In-Class Exercise #3 <br>\n",
    "4) <b>Reduce</b> <br>\n",
    " &nbsp;&nbsp;&nbsp;&nbsp; a) Syntax <br>\n",
    " &nbsp;&nbsp;&nbsp;&nbsp; b) Using Lambda's with Reduce <br>\n",
    " &nbsp;&nbsp;&nbsp;&nbsp; c) In-Class Exercise #4 <br>\n",
    "5) <b>Recursion</b> <br>\n",
    " &nbsp;&nbsp;&nbsp;&nbsp; a) Implementing a Base <br>\n",
    " &nbsp;&nbsp;&nbsp;&nbsp; b) Writing a Factorial Function <br>\n",
    " &nbsp;&nbsp;&nbsp;&nbsp; c) In-Class Exercise #5 <br>\n",
    "6) <b>Generators & Iterators</b> <br>\n",
    " &nbsp;&nbsp;&nbsp;&nbsp; a) Yield Keyword <br>\n",
    " &nbsp;&nbsp;&nbsp;&nbsp; b) Inifinite Generator <br>\n",
    " &nbsp;&nbsp;&nbsp;&nbsp; c) In-Class Exercise #6 <br>\n",
    "7) <b>Exercises</b> <br>\n",
    " &nbsp;&nbsp;&nbsp;&nbsp; a) Exercise #1 - Filtering Empty Strings <br>\n",
    " &nbsp;&nbsp;&nbsp;&nbsp; b) Exercise #2 - Sorting with Last Name <br>\n",
    " &nbsp;&nbsp;&nbsp;&nbsp; c) Exercise #3 - Conversion to Farhenheit <br>\n",
    " &nbsp;&nbsp;&nbsp;&nbsp; d) Exercise #4 - Fibonacci Sequence <br>"
   ]
  },
  {
   "cell_type": "markdown",
   "metadata": {},
   "source": [
    "## Lambda Functions <br>\n",
    "<p>Lambda functions... or \"Anonymous Functions\" are referring to inline functions with no name. The keyword lambda denotes the no name function, and executes within a single line. Without saving it to a variable; however, it is not able to be used, unless passed in either as a paramater or within list comprehension.<br>Written as \"(keyword lambda) (one or more inputs) (colon) (function to be executed)\"</p>"
   ]
  },
  {
   "cell_type": "markdown",
   "metadata": {},
   "source": [
    "#### Syntax"
   ]
  },
  {
   "cell_type": "code",
   "execution_count": 2,
   "metadata": {},
   "outputs": [
    {
     "data": {
      "text/plain": [
       "<function __main__.<lambda>(x)>"
      ]
     },
     "execution_count": 2,
     "metadata": {},
     "output_type": "execute_result"
    }
   ],
   "source": [
    "lambda x: f'Hello, {x}'"
   ]
  },
  {
   "cell_type": "markdown",
   "metadata": {},
   "source": [
    "#### Saving to a Variable"
   ]
  },
  {
   "cell_type": "code",
   "execution_count": 4,
   "metadata": {},
   "outputs": [
    {
     "name": "stdout",
     "output_type": "stream",
     "text": [
      "<function <lambda> at 0x000001487092FEE0>\n"
     ]
    },
    {
     "data": {
      "text/plain": [
       "'Hello, Alex!'"
      ]
     },
     "execution_count": 4,
     "metadata": {},
     "output_type": "execute_result"
    }
   ],
   "source": [
    "#Lambda funcitons can be used as self-invoking functions\n",
    "#aka functions taht immediately call themselves after being defined\n",
    "#same as above but self-invoking\n",
    "(lambda x: f'Hello, {x}!')('Alex')\n",
    "\n",
    "hello = lambda x: f'Hello, {x}!'\n",
    "print(hello)\n",
    "hello('Alex')"
   ]
  },
  {
   "cell_type": "markdown",
   "metadata": {},
   "source": [
    "#### Multiple Inputs"
   ]
  },
  {
   "cell_type": "code",
   "execution_count": 5,
   "metadata": {},
   "outputs": [
    {
     "data": {
      "text/plain": [
       "7"
      ]
     },
     "execution_count": 5,
     "metadata": {},
     "output_type": "execute_result"
    }
   ],
   "source": [
    "#lambda functions are just in the format\n",
    "#lambda <inputs>: <return value>\n",
    "#so, if we want multiple inputs, we just specify multiple inputs\n",
    "addNums = lambda a,b: a+b\n",
    "\n",
    "addNums(2,5)"
   ]
  },
  {
   "cell_type": "markdown",
   "metadata": {},
   "source": [
    "#### Passing a Lambda into a Function"
   ]
  },
  {
   "cell_type": "code",
   "execution_count": 10,
   "metadata": {},
   "outputs": [
    {
     "name": "stdout",
     "output_type": "stream",
     "text": [
      "<class 'list'> <class 'dict'>\n"
     ]
    },
    {
     "data": {
      "text/plain": [
       "[{'name': 'orca', 'color': 'black and white'},\n",
       " {'name': 'Fennec Fox', 'color': 'sand'}]"
      ]
     },
     "execution_count": 10,
     "metadata": {},
     "output_type": "execute_result"
    }
   ],
   "source": [
    "#most commonly done with build-ins such as map, filter, and sorted\n",
    "#sorted example:\n",
    "\n",
    "animals = [{'name': 'Fennec Fox', 'color': 'sand'}, {'name': 'orca', 'color': 'black and white'}]\n",
    "\n",
    "print(type(animals), type(animals[0]))\n",
    "#sorted(animals) sorted cannot directly handle dictionaries\n",
    "#we could do that with a regular function\n",
    "def whichKey(a_dict):\n",
    "    return a_dict['color']\n",
    "\n",
    "sorted(animals, key=whichKey)\n",
    "\n",
    "#That is a very simple regular function that probably won't be used a second time\n",
    "#it would be easier/function to use a lambda function in place of the regular function here\n",
    "#same thing but with a lambda\n",
    "sorted(animals, key=lambda x:x['color'])"
   ]
  },
  {
   "cell_type": "markdown",
   "metadata": {},
   "source": [
    "#### Returning a Lambda from a Function"
   ]
  },
  {
   "cell_type": "code",
   "execution_count": 13,
   "metadata": {},
   "outputs": [
    {
     "name": "stdout",
     "output_type": "stream",
     "text": [
      "<function return_a_function.<locals>.multiply at 0x0000014870A168B0>\n",
      "30 \n",
      "\n",
      "\n",
      "<function returnLambda.<locals>.<lambda> at 0x0000014870A165E0>\n",
      "1100\n",
      "<function returnLambda.<locals>.<lambda> at 0x0000014870A241F0>\n",
      "sharkgiraffecatdog\n"
     ]
    }
   ],
   "source": [
    "#a type of closure - function called from within another function\n",
    "\n",
    "#regular function example\n",
    "def multiply_normal (num):\n",
    "    return num*2\n",
    "\n",
    "#3fining a function within a function is powwible\n",
    "def return_a_function():\n",
    "    def multiply(num):\n",
    "        return num*2\n",
    "    return multiply\n",
    "\n",
    "f_return = return_a_function()\n",
    "print(f_return)\n",
    "print(f_return(15), '\\n\\n')\n",
    "\n",
    "#somewhat similar returning a lambda function\n",
    "# the goal here is to set up functions with slightly ferent behaviour\n",
    "def returnLambda(a, b):\n",
    "    return lambda x,y: x+y+a+b\n",
    "\n",
    "#we will get different behaviour from the lambda function depending on how the outer function is called\n",
    "\n",
    "#In the below example, a=600, b=40, x=400, y=60\n",
    "numAdds = returnLambda(600,40)\n",
    "print(numAdds)\n",
    "print(numAdds(400,60))\n",
    "\n",
    "\n",
    "strAdds = returnLambda('cat', 'dog')\n",
    "print(strAdds)\n",
    "print(strAdds('shark', 'giraffe'))"
   ]
  },
  {
   "cell_type": "markdown",
   "metadata": {},
   "source": [
    "#### If Statements within Lambdas"
   ]
  },
  {
   "cell_type": "code",
   "execution_count": null,
   "metadata": {},
   "outputs": [],
   "source": [
    "#if statements within Lambdas functione xactly the same as if statements within a return statement\n",
    "#splittinginto 2 different return valuse\n",
    "#lambda <parameters>: <value_to_return_if_true> if <conditional> else <value_to_return_if_false>\n",
    "\n",
    "evenorodd = lambda num 'Even' if num%2==0 else 'Odd'\n",
    "\n",
    "print(evenorodd(1))\n",
    "print(evenorodd(2))"
   ]
  },
  {
   "cell_type": "markdown",
   "metadata": {},
   "source": [
    "#### In-Class Exercise #1 <br>\n",
    "<p>Write an anonymous function that cubes the arguments passed in and assign the anonymous function to a variable 'f'.</p>"
   ]
  },
  {
   "cell_type": "code",
   "execution_count": 15,
   "metadata": {},
   "outputs": [
    {
     "data": {
      "text/plain": [
       "27"
      ]
     },
     "execution_count": 15,
     "metadata": {},
     "output_type": "execute_result"
    }
   ],
   "source": [
    "f = lambda a: a**3\n",
    "\n",
    "f(3)"
   ]
  },
  {
   "cell_type": "markdown",
   "metadata": {},
   "source": [
    "## Map <br>\n",
    "<p>The map function allows you to iterate over an entire list while running a function on each item of the list. This is why the map function works well with lambda's, because it simplifies things and you write less lines of code.<br>The syntax for a map function is \"map(function to be used, list to be used)\"<br>However, you must be careful, as the map function returns a map object, not a list. To turn it into a list we use the list() type conversion.</p>"
   ]
  },
  {
   "cell_type": "markdown",
   "metadata": {},
   "source": [
    "#### Syntax"
   ]
  },
  {
   "cell_type": "code",
   "execution_count": 16,
   "metadata": {},
   "outputs": [
    {
     "name": "stdout",
     "output_type": "stream",
     "text": [
      "['A', 'B', 'C', 'D']\n",
      "<map object at 0x0000019BC4281D00>\n",
      "['A', 'B', 'C', 'D']\n"
     ]
    }
   ],
   "source": [
    "letters = ['a', 'b', 'c', 'd']\n",
    "capitalized = []\n",
    "for a in letters: \n",
    "    capitalized.append(a.upper())\n",
    "print(capitalized)\n",
    "\n",
    "\n",
    "# same thiing but witha  map\n",
    "capitalized = map(str.upper, letters)\n",
    "print(capitalized)\n",
    "capitalized = list(capitalized)\n",
    "print(capitalized)"
   ]
  },
  {
   "cell_type": "markdown",
   "metadata": {},
   "source": [
    "#### Using Lambda's with Map"
   ]
  },
  {
   "cell_type": "code",
   "execution_count": 1,
   "metadata": {},
   "outputs": [
    {
     "name": "stdout",
     "output_type": "stream",
     "text": [
      "[(16, 16), (4, 9), (20, 10), (3, 32), (25, 36), (20, 2)]\n",
      "[(16, 16), (4, 9), (20, 10), (3, 32), (25, 36), (20, 2)]\n",
      "[(16, 16), (4, 9), (20, 10), (3, 32), (25, 36), (20, 2)]\n"
     ]
    }
   ],
   "source": [
    "def squareUnderTen(num1, num2):\n",
    "    if num1<10 and num2<10:\n",
    "        return num1**2, num2**2\n",
    "    else:\n",
    "        return num1, num2\n",
    "    \n",
    "lista = [4, 2, 20, 3, 5, 20]\n",
    "listb = [4, 3, 10, 32, 6, 2]\n",
    "\n",
    "squared_under_10 = []\n",
    "for i in range(len(lista)):\n",
    "    squared_under_10.append(squareUnderTen(lista[i], listb[i]))\n",
    "    \n",
    "print(squared_under_10)\n",
    "\n",
    "#loop into map\n",
    "#maps can accept multiple lists if the functiona ccepts multipe pieces of input\n",
    "squared_under_10_map = list(map(squareUnderTen, lista, listb))\n",
    "print(squared_under_10_map)\n",
    "\n",
    "\n",
    "#rewrite the funciton as a lambda\n",
    "lambda x,y: (x**2, y**2) if x<10 and y<10 else (x,y)\n",
    "\n",
    "squaredu10 = list(map(lambda x,y: (x**2, y**2) if x<10 and y<10 else (x,y), lista, listb))\n",
    "print(squaredu10)"
   ]
  },
  {
   "cell_type": "markdown",
   "metadata": {},
   "source": [
    "#### In-Class Exercise #2 <br>\n",
    "<p>Use the map function to double each number and minus it by one in the list by using a lambda function</p>"
   ]
  },
  {
   "cell_type": "code",
   "execution_count": 6,
   "metadata": {},
   "outputs": [
    {
     "name": "stdout",
     "output_type": "stream",
     "text": [
      "[(7, 7), (3, 5), (39, 19), (5, 63), (9, 11), (39, 3)]\n"
     ]
    }
   ],
   "source": [
    "g = list(map(lambda x,y: ((x*2)-1,(y*2)-1), lista, listb)) \n",
    "print(g)"
   ]
  },
  {
   "cell_type": "markdown",
   "metadata": {},
   "source": [
    "## Filter() <br>\n",
    "<p>Filter's are similar to the map function, where you're able to pass a function argument and a list argument and filter out something from the list based on the conditions passed. Similar to the map function, it returns a filter object, so you need to type convert it to a list()</p>"
   ]
  },
  {
   "cell_type": "markdown",
   "metadata": {},
   "source": [
    "#### Syntax"
   ]
  },
  {
   "cell_type": "code",
   "execution_count": 7,
   "metadata": {},
   "outputs": [
    {
     "name": "stdout",
     "output_type": "stream",
     "text": [
      "['Andy', 'Angelica']\n",
      "<function a_names at 0x000002B0840E8160>\n"
     ]
    }
   ],
   "source": [
    "#filter(function, list)\n",
    "names = ['Bob','Andy','Max','Evan','Angelica']\n",
    "\n",
    "def a_names(name):\n",
    "    if name[0].lower() == 'a':\n",
    "        return True\n",
    "    else:\n",
    "        return False\n",
    "new_names_list = list(filter(a_names, names))\n",
    "print(new_names_list)\n",
    "\n",
    "print(a_names)"
   ]
  },
  {
   "cell_type": "markdown",
   "metadata": {},
   "source": [
    "#### Using Lambda's with Filter()"
   ]
  },
  {
   "cell_type": "code",
   "execution_count": null,
   "metadata": {},
   "outputs": [],
   "source": []
  },
  {
   "cell_type": "markdown",
   "metadata": {},
   "source": [
    "#### In-Class Exercise #3 <br>\n",
    "<p>Filter out all the numbers that are below the mean of the list.<br><b>Hint: Import the 'statistics' module</b></p>"
   ]
  },
  {
   "cell_type": "code",
   "execution_count": 18,
   "metadata": {},
   "outputs": [
    {
     "name": "stdout",
     "output_type": "stream",
     "text": [
      "[8, 10, 22, 34, 13, 14, 83, 5, 29, 19, 98, 88, 72, 29, 32, 3, 24, 52, 99, 56]\n",
      "39.5\n",
      "[83, 98, 88, 72, 52, 99, 56]\n"
     ]
    }
   ],
   "source": [
    "import statistics\n",
    "from random import randint\n",
    "nums = [randint(0,100) for x in range(20)]\n",
    "print(nums)\n",
    "z = statistics.mean(nums)\n",
    "answer = [x for x in nums if z < x ]\n",
    "print(z)\n",
    "print(answer)\n",
    "\n",
    "answer2 = list(filter(lambda v: v > mean(nums), nums))\n"
   ]
  },
  {
   "cell_type": "markdown",
   "metadata": {},
   "source": [
    "## Reduce() <br>\n",
    "<p>Be very careful when using this function, as of Python 3 it's been moved to the 'functools' library and no longer is a built-in function.<br>The creator of Python himself, says to just use a for loop instead.</p>"
   ]
  },
  {
   "cell_type": "markdown",
   "metadata": {},
   "source": [
    "#### Syntax"
   ]
  },
  {
   "cell_type": "code",
   "execution_count": 23,
   "metadata": {},
   "outputs": [
    {
     "name": "stdout",
     "output_type": "stream",
     "text": [
      "125\n",
      "35\n"
     ]
    }
   ],
   "source": [
    "#reduce(function, iterable)\n",
    "#return a single value that is a result of the reduction of the list\n",
    "\n",
    "# the way the function is designed is to accept two inputs and return one output\n",
    "# the classic example of reduce() is teh summation of a list or finding the max/min value in a list\n",
    "from functools import reduce\n",
    "summation=reduce(lambda a,b: a+b, [5,10,20,25,30,35])\n",
    "print(summation)\n",
    "\n",
    "maximum = reduce(lambda a,b: a if a>b else b,[5,10,20,25,30,35])\n",
    "print(maximum)"
   ]
  },
  {
   "cell_type": "markdown",
   "metadata": {},
   "source": [
    "#### Using Lambda's with Reduce()"
   ]
  },
  {
   "cell_type": "code",
   "execution_count": null,
   "metadata": {},
   "outputs": [],
   "source": [
    "    "
   ]
  },
  {
   "cell_type": "markdown",
   "metadata": {},
   "source": [
    "#### In-Class Exercise #4 <br>\n",
    "<p>Use the reduce function to multiply the numbers in the list below together with a lambda function.</p>"
   ]
  },
  {
   "cell_type": "code",
   "execution_count": 26,
   "metadata": {},
   "outputs": [
    {
     "name": "stdout",
     "output_type": "stream",
     "text": [
      "120\n"
     ]
    }
   ],
   "source": [
    "my_list = [1, 2, 3, 4, 5]\n",
    "\n",
    "from functools import reduce\n",
    "\n",
    "summation = reduce(lambda a,b: a*b, my_list)\n",
    "print(summation)"
   ]
  },
  {
   "cell_type": "markdown",
   "metadata": {},
   "source": [
    "## Recursion <br>\n",
    "<p>Recursion means that a function is calling itself, so it contanstly executes until a base case is reached. It will then push the returning values back up the chain until the function is complete. A prime example of recursion is computing factorials... such that 5! (factorial) is 5*4*3*2*1 which equals 120.</p>"
   ]
  },
  {
   "cell_type": "markdown",
   "metadata": {},
   "source": [
    "#### Implementing a Base Case"
   ]
  },
  {
   "cell_type": "code",
   "execution_count": 27,
   "metadata": {},
   "outputs": [
    {
     "name": "stdout",
     "output_type": "stream",
     "text": [
      "15\n"
     ]
    }
   ],
   "source": [
    "#rewriting some equation or process as depending on a modified version of itself\n",
    "#gives you your recursive call\n",
    "#i.e. f(n) can be rewritten here as n + f(n-1)\n",
    "#and then finding your base case or endpoint for the same function\n",
    "# in this scenario f(1) = 1\n",
    "#the way this actually runs is we build a recursive chain of funciton\n",
    "def summation(n):\n",
    "    if n==1:\n",
    "        return 1\n",
    "    return n + summation(n-1)\n",
    "\n",
    "print(summation(5))"
   ]
  },
  {
   "cell_type": "markdown",
   "metadata": {},
   "source": [
    "#### Writing a Factorial Function"
   ]
  },
  {
   "cell_type": "code",
   "execution_count": 28,
   "metadata": {},
   "outputs": [
    {
     "name": "stdout",
     "output_type": "stream",
     "text": [
      "factorial(6) = 6 * factorial(5)\n",
      "factorial(5) = 5 * factorial(4)\n",
      "factorial(4) = 4 * factorial(3)\n",
      "factorial(3) = 3 * factorial(2)\n",
      "factorial(2) = 2 * factorial(1)\n",
      "factorial(1) = 1\n"
     ]
    },
    {
     "data": {
      "text/plain": [
       "720"
      ]
     },
     "execution_count": 28,
     "metadata": {},
     "output_type": "execute_result"
    }
   ],
   "source": [
    "def factorial(n):\n",
    "    if n== 1:\n",
    "        print('factorial(1) = 1')\n",
    "        return 1\n",
    "    print(f'factorial({n}) = {n} * factorial({n-1})')\n",
    "    return n*factorial(n-1)\n",
    "\n",
    "factorial(6)"
   ]
  },
  {
   "cell_type": "markdown",
   "metadata": {},
   "source": [
    "#### In-Class Exercise #5 <br>\n",
    "<p>Write a recursive function that subtracts all numbers to the argument given.</p>"
   ]
  },
  {
   "cell_type": "code",
   "execution_count": 31,
   "metadata": {},
   "outputs": [
    {
     "name": "stdout",
     "output_type": "stream",
     "text": [
      "factorial(5) = 5 - factorial(4)\n",
      "factorial(4) = 4 - factorial(3)\n",
      "factorial(3) = 3 - factorial(2)\n",
      "factorial(2) = 2 - factorial(1)\n",
      "factorial(1) = 1\n"
     ]
    },
    {
     "data": {
      "text/plain": [
       "3"
      ]
     },
     "execution_count": 31,
     "metadata": {},
     "output_type": "execute_result"
    }
   ],
   "source": [
    "def factorial2(n):\n",
    "    if n <= 1:\n",
    "        print('factorial(1) = 1')\n",
    "        return 1\n",
    "    print(f'factorial({n}) = {n} - factorial({n-1})')\n",
    "    return n - factorial2(n-1)\n",
    "\n",
    "factorial2(5)\n",
    "\n",
    "\n",
    "\n",
    "factorial(1) = 1\n",
    "facorial(2) = 1\n",
    "factorial (3) = 2\n",
    "factorial (4) = 2\n",
    "factorial(5) = 3"
   ]
  },
  {
   "cell_type": "markdown",
   "metadata": {},
   "source": [
    "## Generators <br>\n",
    "<p>Generators are a type of iterable, like lists or tuples. They do not allow indexing, but they can still be iterated through with for loops. They are created using functions and the yield statement.</p>"
   ]
  },
  {
   "cell_type": "markdown",
   "metadata": {},
   "source": [
    "#### Yield Keyword <br>\n",
    "<p>The yield keyword denotes a generator, it doesn't return so it won't leave the function and reset all variables in the function scope, instead it yields the number back to the caller.</p>"
   ]
  },
  {
   "cell_type": "code",
   "execution_count": null,
   "metadata": {},
   "outputs": [],
   "source": []
  },
  {
   "cell_type": "markdown",
   "metadata": {},
   "source": [
    "#### Infinite Generator"
   ]
  },
  {
   "cell_type": "code",
   "execution_count": null,
   "metadata": {},
   "outputs": [],
   "source": [
    "# bad, never create infinite loops"
   ]
  },
  {
   "cell_type": "markdown",
   "metadata": {},
   "source": [
    "#### In-Class Exercise #6 <br>\n",
    "<p>Create a generator that takes a number argument and yields that number squared, then prints each number squared until zero is reached.</p>"
   ]
  },
  {
   "cell_type": "code",
   "execution_count": 34,
   "metadata": {},
   "outputs": [
    {
     "name": "stdout",
     "output_type": "stream",
     "text": [
      "100\n",
      "81\n",
      "64\n",
      "49\n",
      "36\n",
      "25\n",
      "16\n",
      "9\n",
      "4\n",
      "1\n",
      "0\n"
     ]
    }
   ],
   "source": [
    "def my_square(start, stop, step=-1):\n",
    "    while start >= stop:\n",
    "        yield start**2\n",
    "        start += step\n",
    "        \n",
    "for i in my_square(10,0):\n",
    "    print(i)"
   ]
  },
  {
   "cell_type": "markdown",
   "metadata": {},
   "source": [
    "# Exercises"
   ]
  },
  {
   "cell_type": "markdown",
   "metadata": {},
   "source": [
    "### Exercise #1 <br>\n",
    "<p>Filter out all of the empty strings from the list below</p>\n",
    "\n",
    "`Output: ['Argentina', 'San Diego', 'Boston', 'New York']`"
   ]
  },
  {
   "cell_type": "code",
   "execution_count": 17,
   "metadata": {},
   "outputs": [
    {
     "name": "stdout",
     "output_type": "stream",
     "text": [
      "['Argentina', 'San Diego', 'Boston', 'New York']\n"
     ]
    }
   ],
   "source": [
    "places = [\" \",\"Argentina\", \" \", \"San Diego\",\"\",\"  \",\"\",\"Boston\",\"New York\"]\n",
    "#filter(function, list)\n",
    "\n",
    "def my_filter(place):\n",
    "    while \"\" in places:\n",
    "        places.remove(\"\")\n",
    "    if place[0].isalpha():\n",
    "        return True\n",
    "    else:\n",
    "        return False\n",
    "    \n",
    "answer10 = list(filter(my_filter, places))\n",
    "print(answer10)\n"
   ]
  },
  {
   "cell_type": "markdown",
   "metadata": {},
   "source": [
    "### Exercise #2 <br>\n",
    "<p>Write an anonymous function that sorts this list by the last name...<br><b>Hint: Use the \".sort()\" method and access the key\"</b></p>\n",
    "\n",
    "`Output: ['Victor aNisimov', 'Gary A.J. Bernstein', 'Joel Carter', 'Andrew P. Garfield', 'David hassELHOFF']`"
   ]
  },
  {
   "cell_type": "code",
   "execution_count": 33,
   "metadata": {},
   "outputs": [
    {
     "name": "stdout",
     "output_type": "stream",
     "text": [
      "['Victor Anisimov', 'Gary A.J. Bernstein', 'Joel Carter', 'Andrew P. Garfield', 'David Hasselhoff']\n"
     ]
    }
   ],
   "source": [
    "author = [\"Joel Carter\", \"Victor aNisimov\", \"Andrew P. Garfield\",\"David hassELHOFF\",\"Gary A.J. Bernstein\"]\n",
    "\n",
    "#lambda x,y: x.lower() y.upper(), \n",
    "\n",
    "for i in range(len(author)):\n",
    "    new_author = author[i].title()\n",
    "    author[i] = new_author\n",
    "\n",
    "def names_split(name_list):\n",
    "    sorted_author = []\n",
    "    for i in range(len(name_list)):\n",
    "        x = sorted_author.append(name_list[i].split())\n",
    "    return sorted_author\n",
    "       \n",
    "my_authors = names_split(author)\n",
    "\n",
    "final_list = sorted(my_authors, key=lambda x:x[-1])\n",
    "\n",
    "for i in range(len(final_list)):\n",
    "    final_list[i] = ' '.join(final_list[i])\n",
    "\n",
    "\n",
    "print(final_list)"
   ]
  },
  {
   "cell_type": "markdown",
   "metadata": {},
   "source": [
    "### Exercise #3 <br>\n",
    "<p>Convert the list below from Celsius to Farhenheit, using the map function with a lambda...</p>\n",
    "\n",
    "`Output: [('Nashua', 89.6), ('Boston', 53.6), ('Los Angelos', 111.2), ('Miami', 84.2)]\n",
    "`"
   ]
  },
  {
   "cell_type": "code",
   "execution_count": 51,
   "metadata": {},
   "outputs": [
    {
     "name": "stdout",
     "output_type": "stream",
     "text": [
      "[\"'Nashua' 89.6\", \"'Boston' 53.6\", \"'Los Angelos' 111.2\", \"'Miami' 84.2\"]\n"
     ]
    }
   ],
   "source": [
    "# F = (9/5)*C + 32\n",
    "places = [('Nashua',32),(\"Boston\",12),(\"Los Angelos\",44),(\"Miami\",29)]\n",
    "#squaredu10 = list(map(lambda x,y: (x**2, y**2) if x<10 and y<10 else (x,y), lista, listb))\n",
    "#map(function, list)\n",
    "\n",
    "def calculation (location,celsius):\n",
    "    f = (9/5)*celsius + 32\n",
    "    return location, f\n",
    "\n",
    "#answer = list(map(lambda x,y: (f\"'{x}', {(9/5)* y + 32}\"), places))\n",
    "answer = list(map(lambda x: (f\"'{x[0]}' {(9/5)* x[1] + 32}\"), places))\n",
    "print(answer)"
   ]
  },
  {
   "cell_type": "markdown",
   "metadata": {},
   "source": [
    "### Exercise #4 <br>\n",
    "<p>Write a recursion function to perform the fibonacci sequence up to the number passed in.</p>\n",
    "\n",
    "`Output for fib(5) => \n",
    "Iteration 0: 1\n",
    "Iteration 1: 1\n",
    "Iteration 2: 2\n",
    "Iteration 3: 3\n",
    "Iteration 4: 5\n",
    "Iteration 5: 8`"
   ]
  },
  {
   "cell_type": "code",
   "execution_count": null,
   "metadata": {
    "scrolled": true
   },
   "outputs": [],
   "source": []
  }
 ],
 "metadata": {
  "kernelspec": {
   "display_name": "Python 3 (ipykernel)",
   "language": "python",
   "name": "python3"
  },
  "language_info": {
   "codemirror_mode": {
    "name": "ipython",
    "version": 3
   },
   "file_extension": ".py",
   "mimetype": "text/x-python",
   "name": "python",
   "nbconvert_exporter": "python",
   "pygments_lexer": "ipython3",
   "version": "3.9.7"
  }
 },
 "nbformat": 4,
 "nbformat_minor": 2
}
